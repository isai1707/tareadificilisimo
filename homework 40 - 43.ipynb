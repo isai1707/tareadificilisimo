{
 "cells": [
  {
   "cell_type": "markdown",
   "metadata": {},
   "source": [
    "## practice 40 \"Modules, Classes, and Objects\""
   ]
  },
  {
   "cell_type": "markdown",
   "metadata": {},
   "source": [
    "pay attention to this example since it is somewhat complicated"
   ]
  },
  {
   "cell_type": "code",
   "execution_count": null,
   "metadata": {},
   "outputs": [],
   "source": [
    "class Song(object):\n",
    "\n",
    "def __init__(self, lyrics):\n",
    "self.lyrics = lyrics\n",
    "\n",
    "def sing_me_a_song(self):\n",
    "for line in self.lyrics:\n",
    "print(line)\n",
    " happy_bday = Song([\"Happy birthday to you\",\n",
    "\"I don't want to get sued\",\n",
    " \"So I'll stop right there\"])\n",
    "\n",
    "bulls_on_parade = Song([\"They rally around tha family\",\n",
    "\"With pockets full of shells\"])\n",
    "\n",
    "happy_bday.sing_me_a_song()\n",
    "\n",
    "bulls_on_parade.sing_me_a_song()"
   ]
  },
  {
   "cell_type": "markdown",
   "metadata": {},
   "source": [
    "## practice 41 \"Learning to Speak Object-Oriented\""
   ]
  },
  {
   "cell_type": "markdown",
   "metadata": {},
   "source": [
    "Through a series of words you must form a printed text"
   ]
  },
  {
   "cell_type": "code",
   "execution_count": null,
   "metadata": {},
   "outputs": [],
   "source": [
    "import random\n",
    "from urllib.request import urlopen\n",
    "import sys\n",
    "WORD_URL = \"http://learncodethehardway.org/words.txt\"\n",
    "WORDS = []\n",
    "\n",
    "PHRASES = {\"class %%%(%%%):\": \"Make a class named %%% that is-a %%%.\",\"class %%%(object):\\n\\tdef __init__(self, ***)\" :\"class %%% has-a __init__ that takes self and *** params.\",\n",
    "\"class %%%(object):\\n\\tdef ***(self, @@@)\":\n",
    "\"class %%% has-a function *** that takes self and @@@ params.\",\n",
    "\"*** = %%%()\":\n",
    "\"Set *** to an instance of class %%%.\",\n",
    "\"***.***(@@@)\":\n",
    "\"From *** get the *** function, call it with params self, @@@.\",\n",
    "\"***.*** = '***'\":\n",
    "\"From *** get the *** attribute and set it to '***'.\"}\n",
    "if len(sys.argv) == 2 and sys.argv[1] == \"english\":\n",
    "PHRASE_FIRST = True\n",
    "else:\n",
    "PHRASE_FIRST = False\n",
    "\n",
    "for word in urlopen(WORD_URL).readlines():\n",
    " WORDS.append(str(word.strip(), encoding=\"utf-8\"))\n",
    "\n",
    "\n",
    "def convert(snippet, phrase):\n",
    "class_names = [w.capitalize() for w in\n",
    "random.sample(WORDS, snippet.count(\"%%%\"))]\n",
    "other_names = random.sample(WORDS, snippet.count(\"***\"))\n",
    "results = []\n",
    "param_names = []\n",
    "\n",
    "for i in range(0, snippet.count(\"@@@\")):\n",
    "param_count = random.randint(1,3)\n",
    "param_names.append(', '.join(\n",
    "random.sample(WORDS, param_count)))\n",
    "for sentence in snippet, phrase:\n",
    " result = sentence[:]\n",
    "\n",
    "for word in class_names:\n",
    " result = result.replace(\"%%%\", word, 1)\n",
    "\n",
    " for word in other_names:\n",
    " result = result.replace(\"***\", word, 1)\n",
    "\n",
    "for word in param_names:\n",
    " result = result.replace(\"@@@\", word, 1)\n",
    "\n",
    "results.append(result)\n",
    "\n",
    " return results\n",
    "\n",
    " try:\n",
    " while True:\n",
    "snippets = list(PHRASES.keys())\n",
    "random.shuffle(snippets)\n",
    "\n",
    " for snippet in snippets:\n",
    " phrase = PHRASES[snippet]\n",
    "question, answer = convert(snippet, phrase)\n",
    "if PHRASE_FIRST:\n",
    "question, answer = answer, question\n",
    "print(question)\n"
   ]
  },
  {
   "cell_type": "markdown",
   "metadata": {},
   "source": [
    "## practice 42 \"Is-A, Has-A, Objects, and Classes\""
   ]
  },
  {
   "cell_type": "markdown",
   "metadata": {},
   "source": [
    "in this topic we will see the difference between class and an object"
   ]
  },
  {
   "cell_type": "code",
   "execution_count": null,
   "metadata": {},
   "outputs": [],
   "source": [
    "class Animal(object):\n",
    " pass\n",
    "\n",
    "class Dog(Animal):\n",
    "\n",
    "def __init__(self, name):\n",
    " self.name = name\n",
    "class Cat(Animal):\n",
    "def __init__(self, name):\n",
    "self.name = name\n",
    " class Person(object):\n",
    "def __init__(self, name):\n",
    "self.name = name\n",
    "self.pet = None\n",
    "\n",
    "class Employee(Person):\n",
    "\n",
    " def __init__(self, name, salary):\n",
    " super(Employee, self).__init__(name)\n",
    "self.salary = salary\n",
    "\n",
    "class Fish(object):\n",
    " pass\n",
    "\n",
    "class Salmon(Fish):\n",
    " pass\n",
    "\n",
    "class Halibut(Fish):\n",
    " pass\n",
    " rover = Dog(\"Rover\")\n",
    " satan = Cat(\"Satan\")\n",
    "\n",
    " mary = Person(\"Mary\")\n",
    "mary.pet = satan\n",
    "\n",
    "frank = Employee(\"Frank\", 120000)\n",
    "\n",
    "frank.pet = rover\n",
    " flipper = Fish()\n",
    "crouse = Salmon()\n",
    "harry = Halibut()"
   ]
  },
  {
   "cell_type": "markdown",
   "metadata": {},
   "source": [
    "## practice 43 \"Basic Object-Oriented Analysis and Design\""
   ]
  },
  {
   "cell_type": "code",
   "execution_count": null,
   "metadata": {},
   "outputs": [],
   "source": [
    "how to solve a good problem easily now in this topic we will give you a series that you will grow as a programmer"
   ]
  },
  {
   "cell_type": "code",
   "execution_count": null,
   "metadata": {},
   "outputs": [],
   "source": [
    "class Map(object):\n",
    "\n",
    "scenes = {\n",
    "    'central_corridor': CentralCorridor(),\n",
    "    'laser_weapon_armory': LaserWeaponArmory(),\n",
    "    'the_bridge': TheBridge(),\n",
    "    'escape_pod': EscapePod(),\n",
    "    'death': Death(),\n",
    "    'finished': Finished(), }\n",
    "def __init__(self, start_scene):\n",
    "    self.start_scene = start_scene\n",
    "    def next_scene(self, scene_name):\n",
    "        val = Map.scenes.get(scene_name)\n",
    "return val\n",
    "def opening_scene(self):\n",
    "    return self.next_scene(self.start_scene)"
   ]
  },
  {
   "cell_type": "code",
   "execution_count": null,
   "metadata": {},
   "outputs": [],
   "source": []
  },
  {
   "cell_type": "code",
   "execution_count": null,
   "metadata": {},
   "outputs": [],
   "source": []
  },
  {
   "cell_type": "code",
   "execution_count": null,
   "metadata": {},
   "outputs": [],
   "source": []
  },
  {
   "cell_type": "code",
   "execution_count": null,
   "metadata": {},
   "outputs": [],
   "source": []
  },
  {
   "cell_type": "code",
   "execution_count": null,
   "metadata": {},
   "outputs": [],
   "source": []
  }
 ],
 "metadata": {
  "kernelspec": {
   "display_name": "Python 3",
   "language": "python",
   "name": "python3"
  },
  "language_info": {
   "codemirror_mode": {
    "name": "ipython",
    "version": 3
   },
   "file_extension": ".py",
   "mimetype": "text/x-python",
   "name": "python",
   "nbconvert_exporter": "python",
   "pygments_lexer": "ipython3",
   "version": "3.7.3"
  }
 },
 "nbformat": 4,
 "nbformat_minor": 2
}
